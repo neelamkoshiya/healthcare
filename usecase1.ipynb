{
 "cells": [
  {
   "cell_type": "markdown",
   "id": "3e0746a6-2d54-4292-bd57-c246e95f8282",
   "metadata": {},
   "source": [
    "# Healthcare - Data extraction and Summarization in SBAR format\n",
    "\n",
    " \n",
    "## Objective\n",
    "Clinical/Medical history data extraction and Summarization to structured data in a standard clinical reporting format. Patient data, both current and historical, is usually available in disparate systems and can be put together in a tabular format. However, extracting meaningful insights from this information demands hospital clinicians to navigate through multiple fields, analyze the data, and identify any noteworthy changes over time. By automatically condensing these changes into a standard clinical report format, would not only add substantial value but also serve as a crucial point of differentiation from existing hospital early warning solutions. Utilizing generative AI for this purpose can prove instrumental in uncovering these insights.\n",
    "\n",
    "## Usecase Details\n",
    "Extract a wide range of tabular data and summarize it in standard [SBAR](https://en.wikipedia.org/wiki/SBAR) structure. SBAR is an acronym for Situation, Background, Assessment, Recommendation; a technique that can be used to facilitate prompt and appropriate communication. This communication model has gained popularity in healthcare settings, especially amongst professions such as physicians and nurses. It is a way for health care professionals to communicate effectively with one another, and also allows for important information to be transferred accurately. The format of SBAR allows for short, organized and predictable flow of information between professionals. \n",
    "\n",
    "\n"
   ]
  },
  {
   "cell_type": "markdown",
   "id": "16578489-8efb-4f16-84af-e2753048f6b4",
   "metadata": {},
   "source": [
    "## Installation of necessary Library"
   ]
  },
  {
   "cell_type": "code",
   "execution_count": 94,
   "id": "c69291c5-44f4-419f-a975-a9dcf4103a7d",
   "metadata": {
    "tags": []
   },
   "outputs": [
    {
     "name": "stdout",
     "output_type": "stream",
     "text": [
      "Looking in indexes: https://pypi.org/simple, https://pypi.ngc.nvidia.com\n",
      "Requirement already satisfied: amazon-textract-caller in /opt/conda/lib/python3.10/site-packages (0.2.1)\n",
      "Requirement already satisfied: boto3>=1.26.35 in /opt/conda/lib/python3.10/site-packages (from amazon-textract-caller) (1.33.2)\n",
      "Requirement already satisfied: botocore in /opt/conda/lib/python3.10/site-packages (from amazon-textract-caller) (1.33.2)\n",
      "Requirement already satisfied: amazon-textract-response-parser>=0.1.39 in /opt/conda/lib/python3.10/site-packages (from amazon-textract-caller) (1.0.2)\n",
      "Requirement already satisfied: marshmallow<4,>=3.14 in /opt/conda/lib/python3.10/site-packages (from amazon-textract-response-parser>=0.1.39->amazon-textract-caller) (3.20.1)\n",
      "Requirement already satisfied: jmespath<2.0.0,>=0.7.1 in /opt/conda/lib/python3.10/site-packages (from boto3>=1.26.35->amazon-textract-caller) (1.0.1)\n",
      "Requirement already satisfied: s3transfer<0.9.0,>=0.8.0 in /opt/conda/lib/python3.10/site-packages (from boto3>=1.26.35->amazon-textract-caller) (0.8.1)\n",
      "Requirement already satisfied: python-dateutil<3.0.0,>=2.1 in /opt/conda/lib/python3.10/site-packages (from botocore->amazon-textract-caller) (2.8.2)\n",
      "Requirement already satisfied: urllib3<2.1,>=1.25.4 in /opt/conda/lib/python3.10/site-packages (from botocore->amazon-textract-caller) (2.0.7)\n",
      "Requirement already satisfied: packaging>=17.0 in /opt/conda/lib/python3.10/site-packages (from marshmallow<4,>=3.14->amazon-textract-response-parser>=0.1.39->amazon-textract-caller) (21.3)\n",
      "Requirement already satisfied: six>=1.5 in /opt/conda/lib/python3.10/site-packages (from python-dateutil<3.0.0,>=2.1->botocore->amazon-textract-caller) (1.16.0)\n",
      "Requirement already satisfied: pyparsing!=3.0.5,>=2.0.2 in /opt/conda/lib/python3.10/site-packages (from packaging>=17.0->marshmallow<4,>=3.14->amazon-textract-response-parser>=0.1.39->amazon-textract-caller) (3.0.9)\n",
      "\u001b[33mWARNING: Running pip as the 'root' user can result in broken permissions and conflicting behaviour with the system package manager. It is recommended to use a virtual environment instead: https://pip.pypa.io/warnings/venv\u001b[0m\u001b[33m\n",
      "\u001b[0mLooking in indexes: https://pypi.org/simple, https://pypi.ngc.nvidia.com\n",
      "Requirement already satisfied: amazon-textract-response-parser in /opt/conda/lib/python3.10/site-packages (1.0.2)\n",
      "Requirement already satisfied: boto3 in /opt/conda/lib/python3.10/site-packages (from amazon-textract-response-parser) (1.33.2)\n",
      "Requirement already satisfied: marshmallow<4,>=3.14 in /opt/conda/lib/python3.10/site-packages (from amazon-textract-response-parser) (3.20.1)\n",
      "Requirement already satisfied: packaging>=17.0 in /opt/conda/lib/python3.10/site-packages (from marshmallow<4,>=3.14->amazon-textract-response-parser) (21.3)\n",
      "Requirement already satisfied: botocore<1.34.0,>=1.33.2 in /opt/conda/lib/python3.10/site-packages (from boto3->amazon-textract-response-parser) (1.33.2)\n",
      "Requirement already satisfied: jmespath<2.0.0,>=0.7.1 in /opt/conda/lib/python3.10/site-packages (from boto3->amazon-textract-response-parser) (1.0.1)\n",
      "Requirement already satisfied: s3transfer<0.9.0,>=0.8.0 in /opt/conda/lib/python3.10/site-packages (from boto3->amazon-textract-response-parser) (0.8.1)\n",
      "Requirement already satisfied: python-dateutil<3.0.0,>=2.1 in /opt/conda/lib/python3.10/site-packages (from botocore<1.34.0,>=1.33.2->boto3->amazon-textract-response-parser) (2.8.2)\n",
      "Requirement already satisfied: urllib3<2.1,>=1.25.4 in /opt/conda/lib/python3.10/site-packages (from botocore<1.34.0,>=1.33.2->boto3->amazon-textract-response-parser) (2.0.7)\n",
      "Requirement already satisfied: pyparsing!=3.0.5,>=2.0.2 in /opt/conda/lib/python3.10/site-packages (from packaging>=17.0->marshmallow<4,>=3.14->amazon-textract-response-parser) (3.0.9)\n",
      "Requirement already satisfied: six>=1.5 in /opt/conda/lib/python3.10/site-packages (from python-dateutil<3.0.0,>=2.1->botocore<1.34.0,>=1.33.2->boto3->amazon-textract-response-parser) (1.16.0)\n",
      "\u001b[33mWARNING: Running pip as the 'root' user can result in broken permissions and conflicting behaviour with the system package manager. It is recommended to use a virtual environment instead: https://pip.pypa.io/warnings/venv\u001b[0m\u001b[33m\n",
      "\u001b[0m"
     ]
    }
   ],
   "source": [
    "!python -m pip install amazon-textract-caller --upgrade\n",
    "!python -m pip install amazon-textract-response-parser --upgrade"
   ]
  },
  {
   "cell_type": "code",
   "execution_count": 95,
   "id": "b8f0eebf-4246-4877-a482-4d00e8bcf7a4",
   "metadata": {
    "tags": []
   },
   "outputs": [
    {
     "name": "stdout",
     "output_type": "stream",
     "text": [
      "Looking in indexes: https://pypi.org/simple, https://pypi.ngc.nvidia.com\n",
      "Collecting boto3\n",
      "  Downloading boto3-1.33.2-py3-none-any.whl.metadata (6.7 kB)\n",
      "Collecting botocore<1.34.0,>=1.33.2 (from boto3)\n",
      "  Downloading botocore-1.33.2-py3-none-any.whl.metadata (6.1 kB)\n",
      "Collecting jmespath<2.0.0,>=0.7.1 (from boto3)\n",
      "  Downloading jmespath-1.0.1-py3-none-any.whl (20 kB)\n",
      "Collecting s3transfer<0.9.0,>=0.8.0 (from boto3)\n",
      "  Downloading s3transfer-0.8.1-py3-none-any.whl.metadata (1.8 kB)\n",
      "Collecting python-dateutil<3.0.0,>=2.1 (from botocore<1.34.0,>=1.33.2->boto3)\n",
      "  Downloading python_dateutil-2.8.2-py2.py3-none-any.whl (247 kB)\n",
      "\u001b[2K     \u001b[90m━━━━━━━━━━━━━━━━━━━━━━━━━━━━━━━━━━━━━━\u001b[0m \u001b[32m247.7/247.7 kB\u001b[0m \u001b[31m48.5 MB/s\u001b[0m eta \u001b[36m0:00:00\u001b[0m\n",
      "\u001b[?25hCollecting urllib3<2.1,>=1.25.4 (from botocore<1.34.0,>=1.33.2->boto3)\n",
      "  Downloading urllib3-2.0.7-py3-none-any.whl.metadata (6.6 kB)\n",
      "Collecting six>=1.5 (from python-dateutil<3.0.0,>=2.1->botocore<1.34.0,>=1.33.2->boto3)\n",
      "  Downloading six-1.16.0-py2.py3-none-any.whl (11 kB)\n",
      "Downloading boto3-1.33.2-py3-none-any.whl (139 kB)\n",
      "\u001b[2K   \u001b[90m━━━━━━━━━━━━━━━━━━━━━━━━━━━━━━━━━━━━━━━\u001b[0m \u001b[32m139.1/139.1 kB\u001b[0m \u001b[31m231.4 MB/s\u001b[0m eta \u001b[36m0:00:00\u001b[0m\n",
      "\u001b[?25hDownloading botocore-1.33.2-py3-none-any.whl (11.7 MB)\n",
      "\u001b[2K   \u001b[90m━━━━━━━━━━━━━━━━━━━━━━━━━━━━━━━━━━━━━━━━\u001b[0m \u001b[32m11.7/11.7 MB\u001b[0m \u001b[31m229.4 MB/s\u001b[0m eta \u001b[36m0:00:00\u001b[0m \u001b[36m0:00:01\u001b[0m\n",
      "\u001b[?25hDownloading s3transfer-0.8.1-py3-none-any.whl (82 kB)\n",
      "\u001b[2K   \u001b[90m━━━━━━━━━━━━━━━━━━━━━━━━━━━━━━━━━━━━━━━━\u001b[0m \u001b[32m82.0/82.0 kB\u001b[0m \u001b[31m195.6 MB/s\u001b[0m eta \u001b[36m0:00:00\u001b[0m\n",
      "\u001b[?25hDownloading urllib3-2.0.7-py3-none-any.whl (124 kB)\n",
      "\u001b[2K   \u001b[90m━━━━━━━━━━━━━━━━━━━━━━━━━━━━━━━━━━━━━━━\u001b[0m \u001b[32m124.2/124.2 kB\u001b[0m \u001b[31m289.4 MB/s\u001b[0m eta \u001b[36m0:00:00\u001b[0m\n",
      "\u001b[?25hInstalling collected packages: urllib3, six, jmespath, python-dateutil, botocore, s3transfer, boto3\n",
      "  Attempting uninstall: urllib3\n",
      "    Found existing installation: urllib3 2.0.7\n",
      "    Uninstalling urllib3-2.0.7:\n",
      "      Successfully uninstalled urllib3-2.0.7\n",
      "  Attempting uninstall: six\n",
      "    Found existing installation: six 1.16.0\n",
      "    Uninstalling six-1.16.0:\n",
      "      Successfully uninstalled six-1.16.0\n",
      "  Attempting uninstall: jmespath\n",
      "    Found existing installation: jmespath 1.0.1\n",
      "    Uninstalling jmespath-1.0.1:\n",
      "      Successfully uninstalled jmespath-1.0.1\n",
      "  Attempting uninstall: python-dateutil\n",
      "    Found existing installation: python-dateutil 2.8.2\n",
      "    Uninstalling python-dateutil-2.8.2:\n",
      "      Successfully uninstalled python-dateutil-2.8.2\n",
      "  Attempting uninstall: botocore\n",
      "    Found existing installation: botocore 1.33.2\n",
      "    Uninstalling botocore-1.33.2:\n",
      "      Successfully uninstalled botocore-1.33.2\n",
      "  Attempting uninstall: s3transfer\n",
      "    Found existing installation: s3transfer 0.8.1\n",
      "    Uninstalling s3transfer-0.8.1:\n",
      "      Successfully uninstalled s3transfer-0.8.1\n",
      "  Attempting uninstall: boto3\n",
      "    Found existing installation: boto3 1.33.2\n",
      "    Uninstalling boto3-1.33.2:\n",
      "      Successfully uninstalled boto3-1.33.2\n",
      "\u001b[31mERROR: pip's dependency resolver does not currently take into account all the packages that are installed. This behaviour is the source of the following dependency conflicts.\n",
      "spyder 5.3.3 requires pyqt5<5.16, which is not installed.\n",
      "spyder 5.3.3 requires pyqtwebengine<5.16, which is not installed.\n",
      "awscli 1.29.63 requires botocore==1.31.63, but you have botocore 1.33.2 which is incompatible.\n",
      "awscli 1.29.63 requires s3transfer<0.8.0,>=0.7.0, but you have s3transfer 0.8.1 which is incompatible.\n",
      "distributed 2022.7.0 requires tornado<6.2,>=6.0.3, but you have tornado 6.3.3 which is incompatible.\n",
      "jupyterlab 3.4.4 requires jupyter-server~=1.16, but you have jupyter-server 2.7.3 which is incompatible.\n",
      "jupyterlab-server 2.10.3 requires jupyter-server~=1.4, but you have jupyter-server 2.7.3 which is incompatible.\n",
      "notebook 6.5.6 requires jupyter-client<8,>=5.3.4, but you have jupyter-client 8.4.0 which is incompatible.\n",
      "notebook 6.5.6 requires pyzmq<25,>=17, but you have pyzmq 25.1.1 which is incompatible.\n",
      "panel 0.13.1 requires bokeh<2.5.0,>=2.4.0, but you have bokeh 3.3.0 which is incompatible.\n",
      "sagemaker-datawrangler 0.4.3 requires sagemaker-data-insights==0.4.0, but you have sagemaker-data-insights 0.3.3 which is incompatible.\n",
      "spyder 5.3.3 requires ipython<8.0.0,>=7.31.1, but you have ipython 8.16.1 which is incompatible.\n",
      "spyder 5.3.3 requires pylint<3.0,>=2.5.0, but you have pylint 3.0.1 which is incompatible.\n",
      "spyder-kernels 2.3.3 requires ipython<8,>=7.31.1; python_version >= \"3\", but you have ipython 8.16.1 which is incompatible.\n",
      "spyder-kernels 2.3.3 requires jupyter-client<8,>=7.3.4; python_version >= \"3\", but you have jupyter-client 8.4.0 which is incompatible.\u001b[0m\u001b[31m\n",
      "\u001b[0mSuccessfully installed boto3-1.33.2 botocore-1.33.2 jmespath-1.0.1 python-dateutil-2.8.2 s3transfer-0.8.1 six-1.16.0 urllib3-2.0.7\n",
      "\u001b[33mWARNING: Running pip as the 'root' user can result in broken permissions and conflicting behaviour with the system package manager. It is recommended to use a virtual environment instead: https://pip.pypa.io/warnings/venv\u001b[0m\u001b[33m\n",
      "\u001b[0m"
     ]
    }
   ],
   "source": [
    "!pip install  --force-reinstall boto3"
   ]
  },
  {
   "cell_type": "markdown",
   "id": "af80360f-9067-4e4b-a689-fe10832112a3",
   "metadata": {},
   "source": [
    "## Initial Set up "
   ]
  },
  {
   "cell_type": "code",
   "execution_count": 96,
   "id": "74f90f96-cd8e-4a81-9152-6d2885d2777e",
   "metadata": {
    "tags": []
   },
   "outputs": [],
   "source": [
    "import sagemaker\n",
    "import boto3\n",
    "\n",
    "import numpy as np                                # For performing matrix operations and numerical processing\n",
    "import pandas as pd                               # For manipulating tabular data\n",
    "from time import gmtime, strftime\n",
    "import os\n",
    "\n",
    "region = boto3.Session().region_name\n",
    "smclient = boto3.Session().client('sagemaker')"
   ]
  },
  {
   "cell_type": "code",
   "execution_count": 97,
   "id": "7af9c6a9-a36e-417c-8a90-5ec6b17f1b69",
   "metadata": {
    "tags": []
   },
   "outputs": [],
   "source": [
    "\n",
    "\n",
    "df = pd.read_csv(\"data.csv\")\n",
    "#df = df.replace(np.nan, None)"
   ]
  },
  {
   "cell_type": "code",
   "execution_count": 98,
   "id": "e81a01aa-e5f0-4de1-ba2e-2ed2c206e84e",
   "metadata": {
    "tags": []
   },
   "outputs": [
    {
     "name": "stdout",
     "output_type": "stream",
     "text": [
      "     Patient Name         Unnamed: 1               Room       Admitting Dx\n",
      "0   Sarah Jenkins                NaN             3W-110     mild pneumonia\n",
      "1            Date    Morning Reading  Afternoon Reading    Evening Reading\n",
      "2           Day 1          BP:80 bpm          HR:88 bpm          HR:92 bpm\n",
      "3             NaN    BP: 120/70 mmHg    BP: 118/68 mmHg    BP: 115/65 mmHg\n",
      "4             NaN         RR: 16 bpm          RR:18 bpm          RR:20 bpm\n",
      "5             NaN  Rothman Index: 90  Rothman Index: 85  Rothman Index: 80\n",
      "6           Day 2          HR:95 bpm         HR:100 bpm         HR:105 bpm\n",
      "7             NaN    BP: 112/60 mmHg        108/58 mmHg    BP: 105/55 mmHg\n",
      "8             NaN          RR:22 bpm          RR:25 bpm          RR:28 bpm\n",
      "9             NaN  Rothman Index: 75  Rothman Index: 70  Rothman Index: 65\n",
      "10          Day 3        HR: 110 bpm         HR:120 bpm         HR:130 bpm\n",
      "11            NaN    BP: 100/50 mmHg     BP: 95/45 mmHg     BP: 90/40 mmHg\n",
      "12            NaN          RR:32 bpm          RR:35 bpm          RR:40 bpm\n",
      "13            NaN  Rothman Index: 60  Rothman Index: 55  Rothman Index: 50\n"
     ]
    }
   ],
   "source": [
    "data = df.to_string()\n",
    "print(data)"
   ]
  },
  {
   "cell_type": "code",
   "execution_count": 99,
   "id": "6692ed34-22b3-4aa0-aede-7e521f8cfd98",
   "metadata": {
    "tags": []
   },
   "outputs": [],
   "source": [
    "# Connect to the Bedrock runtime client in us-east-1\n",
    "bedrock_runtime =boto3.client(service_name='bedrock-runtime',\n",
    "                                    region_name='us-east-1')"
   ]
  },
  {
   "cell_type": "markdown",
   "id": "5d9a95d5-affe-4393-8822-546c134e9202",
   "metadata": {},
   "source": [
    "# Zero Shot with Context"
   ]
  },
  {
   "cell_type": "code",
   "execution_count": 100,
   "id": "7b6ddecd-2b36-4531-9e44-cbd5b87dec49",
   "metadata": {
    "tags": []
   },
   "outputs": [],
   "source": [
    "prompt_template = \"\"\"\n",
    " \\n\\nHuman: You are a medical practitioner writing a Medical Summary in standard “SBAR” structure. The below data is csv converted to pandas dataframe \\n \\n\n",
    "{input_text}\n",
    " \\n\n",
    " \n",
    "Write a medical Summary of the above tabular data and summarize the structured data in a standard clinical reporting format. Include medical terminology followed by its meaning. This report is for Hospital clinicians \\n \\n\n",
    "Use short bullet point steps \\n\\n\n",
    "\n",
    "- Situation: Highlight patient's name and the admitted room. Provide breif summary of the diagnosis, admitting RI scores and changes over the course of the stay\n",
    "- Background: Highlight patient's reason for admission and brief treatment plan\n",
    "- Assessment: Summarize the assessment of vital signs over the course of stay\n",
    "- Recommendation : Provide possible recommendation for any concerning changes in patient's assessment. Highlight which areas doctor should focus on including investigation and monitoring. Also suggest treatment adjustments in the treatment plan.\n",
    "\n",
    "\n",
    "Assistant:\n",
    "\"\"\""
   ]
  },
  {
   "cell_type": "code",
   "execution_count": 101,
   "id": "6823c163-389b-4ae8-ba8b-0c32afacbc50",
   "metadata": {
    "tags": []
   },
   "outputs": [
    {
     "name": "stdout",
     "output_type": "stream",
     "text": [
      "\n",
      " \n",
      "\n",
      "Human: You are a medical practitioner writing a Medical Summary in standard “SBAR” structure. The below data is csv converted to pandas dataframe \n",
      " \n",
      "\n",
      "     Patient Name         Unnamed: 1               Room       Admitting Dx\n",
      "0   Sarah Jenkins                NaN             3W-110     mild pneumonia\n",
      "1            Date    Morning Reading  Afternoon Reading    Evening Reading\n",
      "2           Day 1          BP:80 bpm          HR:88 bpm          HR:92 bpm\n",
      "3             NaN    BP: 120/70 mmHg    BP: 118/68 mmHg    BP: 115/65 mmHg\n",
      "4             NaN         RR: 16 bpm          RR:18 bpm          RR:20 bpm\n",
      "5             NaN  Rothman Index: 90  Rothman Index: 85  Rothman Index: 80\n",
      "6           Day 2          HR:95 bpm         HR:100 bpm         HR:105 bpm\n",
      "7             NaN    BP: 112/60 mmHg        108/58 mmHg    BP: 105/55 mmHg\n",
      "8             NaN          RR:22 bpm          RR:25 bpm          RR:28 bpm\n",
      "9             NaN  Rothman Index: 75  Rothman Index: 70  Rothman Index: 65\n",
      "10          Day 3        HR: 110 bpm         HR:120 bpm         HR:130 bpm\n",
      "11            NaN    BP: 100/50 mmHg     BP: 95/45 mmHg     BP: 90/40 mmHg\n",
      "12            NaN          RR:32 bpm          RR:35 bpm          RR:40 bpm\n",
      "13            NaN  Rothman Index: 60  Rothman Index: 55  Rothman Index: 50\n",
      " \n",
      "\n",
      " \n",
      "Write a medical Summary of the above tabular data and summarize the structured data in a standard clinical reporting format. Include medical terminology followed by its meaning. This report is for Hospital clinicians \n",
      " \n",
      "\n",
      "Use short bullet point steps \n",
      "\n",
      "\n",
      "\n",
      "- Situation: Highlight patient's name and the admitted room. Provide breif summary of the diagnosis, admitting RI scores and changes over the course of the stay\n",
      "- Background: Highlight patient's reason for admission and brief treatment plan\n",
      "- Assessment: Summarize the assessment of vital signs over the course of stay\n",
      "- Recommendation : Provide possible recommendation for any concerning changes in patient's assessment. Highlight which areas doctor should focus on including investigation and monitoring. Also suggest treatment adjustments in the treatment plan.\n",
      "\n",
      "\n",
      "Assistant:\n",
      "\n"
     ]
    }
   ],
   "source": [
    "def format_str(s):\n",
    "    prompt = prompt_template.replace(\"{input_text}\", s) \n",
    "    return prompt\n",
    "\n",
    "prompt_query=format_str(data)\n",
    "  \n",
    "print(prompt_query)"
   ]
  },
  {
   "cell_type": "code",
   "execution_count": 102,
   "id": "f1ad7a7e-0165-42ed-98d1-2e2153dd4238",
   "metadata": {
    "tags": []
   },
   "outputs": [],
   "source": [
    "import json\n",
    "body = json.dumps({\n",
    "                    \"prompt\": prompt_query,\n",
    "                    \"max_tokens_to_sample\":4096,\n",
    "                    \"temperature\":0.5,\n",
    "                    \"top_k\":250,\n",
    "                    \"top_p\":0.5,\n",
    "                    \"stop_sequences\": [\"\\n\\nHuman:\"]\n",
    "                  }) "
   ]
  },
  {
   "cell_type": "code",
   "execution_count": 103,
   "id": "485ebef8-8602-469b-9c47-56bd5abc50f8",
   "metadata": {
    "tags": []
   },
   "outputs": [
    {
     "name": "stdout",
     "output_type": "stream",
     "text": [
      " Here is a draft SBAR medical summary for Sarah Jenkins based on the provided data:\n",
      "\n",
      "Situation: \n",
      "- Patient name: Sarah Jenkins\n",
      "- Admitted to room 3W-110\n",
      "- Admitting diagnosis: mild pneumonia\n",
      "- Admitting Rothman Index: 90 indicating good condition\n",
      "- Rothman Index declined to 50 over 3 day stay indicating worsening condition\n",
      "\n",
      "Background: \n",
      "- Admitted for treatment of mild pneumonia with antibiotics and monitoring of vital signs.\n",
      "\n",
      "Assessment:\n",
      "- Heart rate (HR) increased from 88 bpm on admission to 130 bpm on day 3 indicating tachycardia and possible worsening infection\n",
      "- Blood pressure (BP) decreased from 120/70 mmHg to 90/40 mmHg indicating hypotension\n",
      "- Respiratory rate (RR) increased from 16 to 40 breaths/min indicating tachypnea and possible respiratory distress \n",
      "- Rothman Index declined from 90 to 50 indicating worsening overall condition\n",
      "\n",
      "Recommendation:\n",
      "- Investigate reasons for tachycardia, hypotension and tachypnea including repeat chest imaging to rule out progression of pneumonia\n",
      "- Monitor oxygen saturation and consider oxygen therapy if levels low\n",
      "- Consider IV fluids or vasopressors for hypotension\n",
      "- Consider broadening antibiotic coverage if infection not improving\n",
      "- Continue close monitoring of vitals and Rothman Index\n",
      "- May require transfer to higher level of care if condition continues to deteriorate\n",
      "\n",
      "Let me know if you would like me to modify or expand this draft SBAR summary. I aimed to concisely summarize the key information in an organized format for easy communication to other clinicians.\n"
     ]
    }
   ],
   "source": [
    "modelId = 'anthropic.claude-v2' # change this to use a different version from the model provider\n",
    "accept = 'application/json'\n",
    "contentType = 'application/json'\n",
    "\n",
    "response = bedrock_runtime.invoke_model(body=body, modelId=modelId, accept=accept, contentType=contentType)\n",
    "response_body = json.loads(response.get('body').read())\n",
    "\n",
    "print(response_body.get('completion'))"
   ]
  },
  {
   "cell_type": "markdown",
   "id": "933fcc3a-a73b-4ea1-987f-83d78a6ad453",
   "metadata": {},
   "source": [
    "# Chain of Thought - Optional\n",
    "\n",
    "Optionally you can use different type of prompt engineering technique including chain of thought, many shot prompt engineering"
   ]
  },
  {
   "cell_type": "code",
   "execution_count": 104,
   "id": "5790260d",
   "metadata": {
    "tags": []
   },
   "outputs": [],
   "source": [
    "prompt_template_cot = \"\"\"\n",
    " \\n\\nHuman: You are a medical practitioner writing a Medical Summary in standard “SBAR” structure. The below data is csv converted to pandas dataframe \\n \\n\n",
    "{input_text}\n",
    " \\n\n",
    " \n",
    "Write a medical Summary of the above tabular data and summarize the structured data in a standard clinical reporting format. Include medical terminology followed by its meaning \\n \\n\n",
    "Use short bullet point steps \\n\\n\n",
    "\n",
    "- Situation: Highlight patient's name and the admitted room. Provide breif summary of the diagnosis, admitting RI scores and changes over the course of the stay\n",
    "- Background: Highlight patient's reason for admission and brief treatment plan\n",
    "- Assessment: Summarize the assessment of vital signs over the course of stay\n",
    "- Recommendation : Provide possible recommendation for any concerning changes in patient's assessment. Highlight which areas doctor should focus on including investigation and monitoring. Also suggest treatment adjustments in the treatment plan.\n",
    "\n",
    "Think step-by-step for providing a clinical report based on the information shared in the Context before.Include your thoughts in the <thinking></thinking> XML tags and the actual summary as an Answer.\n",
    "\n",
    "\n",
    "\n",
    "Assistant:\n",
    "\"\"\""
   ]
  },
  {
   "cell_type": "code",
   "execution_count": 105,
   "id": "3105f829-9711-4873-aaab-e9150267e40f",
   "metadata": {},
   "outputs": [
    {
     "name": "stdout",
     "output_type": "stream",
     "text": [
      "\n",
      " \n",
      "\n",
      "Human: You are a medical practitioner writing a Medical Summary in standard “SBAR” structure. The below data is csv converted to pandas dataframe \n",
      " \n",
      "\n",
      "     Patient Name         Unnamed: 1               Room       Admitting Dx\n",
      "0   Sarah Jenkins                NaN             3W-110     mild pneumonia\n",
      "1            Date    Morning Reading  Afternoon Reading    Evening Reading\n",
      "2           Day 1          BP:80 bpm          HR:88 bpm          HR:92 bpm\n",
      "3             NaN    BP: 120/70 mmHg    BP: 118/68 mmHg    BP: 115/65 mmHg\n",
      "4             NaN         RR: 16 bpm          RR:18 bpm          RR:20 bpm\n",
      "5             NaN  Rothman Index: 90  Rothman Index: 85  Rothman Index: 80\n",
      "6           Day 2          HR:95 bpm         HR:100 bpm         HR:105 bpm\n",
      "7             NaN    BP: 112/60 mmHg        108/58 mmHg    BP: 105/55 mmHg\n",
      "8             NaN          RR:22 bpm          RR:25 bpm          RR:28 bpm\n",
      "9             NaN  Rothman Index: 75  Rothman Index: 70  Rothman Index: 65\n",
      "10          Day 3        HR: 110 bpm         HR:120 bpm         HR:130 bpm\n",
      "11            NaN    BP: 100/50 mmHg     BP: 95/45 mmHg     BP: 90/40 mmHg\n",
      "12            NaN          RR:32 bpm          RR:35 bpm          RR:40 bpm\n",
      "13            NaN  Rothman Index: 60  Rothman Index: 55  Rothman Index: 50\n",
      " \n",
      "\n",
      " \n",
      "Write a medical Summary of the above tabular data and summarize the structured data in a standard clinical reporting format. Include medical terminology followed by its meaning \n",
      " \n",
      "\n",
      "Use short bullet point steps \n",
      "\n",
      "\n",
      "\n",
      "- Situation: Highlight patient's name and the admitted room. Provide breif summary of the diagnosis, admitting RI scores and changes over the course of the stay\n",
      "- Background: Highlight patient's reason for admission and brief treatment plan\n",
      "- Assessment: Summarize the assessment of vital signs over the course of stay\n",
      "- Recommendation : Provide possible recommendation for any concerning changes in patient's assessment. Highlight which areas doctor should focus on including investigation and monitoring. Also suggest treatment adjustments in the treatment plan.\n",
      "\n",
      "Think step-by-step for providing a clinical report based on the information shared in the Context before.Include your thoughts in the <thinking></thinking> XML tags and the actual summary as an Answer.\n",
      "\n",
      "\n",
      "\n",
      "Assistant:\n",
      "\n"
     ]
    }
   ],
   "source": [
    "def format_str_cot(s):\n",
    "    prompt_cot = prompt_template_cot.replace(\"{input_text}\", s) \n",
    "    return prompt_cot\n",
    "\n",
    "prompt_query_cot=format_str_cot(data)\n",
    "  \n",
    "print(prompt_query_cot)"
   ]
  },
  {
   "cell_type": "code",
   "execution_count": 106,
   "id": "71430c67-e202-4198-ba2f-df7cb3ae38c2",
   "metadata": {
    "tags": []
   },
   "outputs": [],
   "source": [
    "import json\n",
    "body_cot = json.dumps({\n",
    "                    \"prompt\": prompt_query_cot,\n",
    "                    \"max_tokens_to_sample\":4096,\n",
    "                    \"temperature\":0.5,\n",
    "                    \"top_k\":250,\n",
    "                    \"top_p\":0.5,\n",
    "                    \"stop_sequences\": [\"\\n\\nHuman:\"]\n",
    "                  }) "
   ]
  },
  {
   "cell_type": "code",
   "execution_count": 107,
   "id": "1c1c9535-0bf0-4851-8a3c-a14d282051f1",
   "metadata": {
    "tags": []
   },
   "outputs": [
    {
     "name": "stdout",
     "output_type": "stream",
     "text": [
      " <thinking>\n",
      "To write a medical summary in SBAR format for this patient data:\n",
      "\n",
      "- First, I will highlight the patient's name, admitted room, and diagnosis in the Situation section. I will briefly note the admitting Rothman Index score and changes over the stay.\n",
      "\n",
      "- Next, for Background I will state the reason for admission and brief treatment plan.\n",
      "\n",
      "- For Assessment, I will summarize the vital sign trends over the course of the stay, including heart rate, blood pressure, respiratory rate. \n",
      "\n",
      "- Finally, in Recommendation I will note any concerning vital sign changes, suggest areas for further investigation and monitoring, and recommend potential treatment plan adjustments based on the assessments.\n",
      "\n",
      "</thinking>\n",
      "\n",
      "Here is a draft SBAR medical summary:\n",
      "\n",
      "Situation: \n",
      "- Patient is Sarah Jenkins, a 65 year old female admitted to room 3W-110 with mild pneumonia. Admitting Rothman Index was 90, declining to 50 over course of 3 day stay.\n",
      "\n",
      "Background: \n",
      "- Admitted for intravenous antibiotics to treat community-acquired pneumonia. \n",
      "\n",
      "Assessment:\n",
      "- Heart rate increased from 80bpm on admission to 130bpm by day 3. \n",
      "- Blood pressure decreased from 120/70 mmHg to 90/40 mmHg over stay.\n",
      "- Respiratory rate increased from 16 to 40 breaths per minute.\n",
      "- Rothman Index declined from 90 to 50 over course of stay.\n",
      "\n",
      "Recommendation:\n",
      "- Concerning vital sign trends including tachycardia, hypotension and tachypnea. Recommend investigation into potential sepsis including blood cultures, lactate level. Increase monitoring of vitals and fluid status. May require transfer to ICU and escalation of antibiotic therapy if sepsis is confirmed.\n"
     ]
    }
   ],
   "source": [
    "response_cot = bedrock_runtime.invoke_model(body=body_cot, modelId=modelId, accept=accept, contentType=contentType)\n",
    "response_body_cot = json.loads(response_cot.get('body').read())\n",
    "\n",
    "print(response_body_cot.get('completion'))"
   ]
  },
  {
   "cell_type": "code",
   "execution_count": null,
   "id": "f24fe0fa-a311-49d0-9674-1ef40f220986",
   "metadata": {},
   "outputs": [],
   "source": []
  }
 ],
 "metadata": {
  "availableInstances": [
   {
    "_defaultOrder": 0,
    "_isFastLaunch": true,
    "category": "General purpose",
    "gpuNum": 0,
    "hideHardwareSpecs": false,
    "memoryGiB": 4,
    "name": "ml.t3.medium",
    "vcpuNum": 2
   },
   {
    "_defaultOrder": 1,
    "_isFastLaunch": false,
    "category": "General purpose",
    "gpuNum": 0,
    "hideHardwareSpecs": false,
    "memoryGiB": 8,
    "name": "ml.t3.large",
    "vcpuNum": 2
   },
   {
    "_defaultOrder": 2,
    "_isFastLaunch": false,
    "category": "General purpose",
    "gpuNum": 0,
    "hideHardwareSpecs": false,
    "memoryGiB": 16,
    "name": "ml.t3.xlarge",
    "vcpuNum": 4
   },
   {
    "_defaultOrder": 3,
    "_isFastLaunch": false,
    "category": "General purpose",
    "gpuNum": 0,
    "hideHardwareSpecs": false,
    "memoryGiB": 32,
    "name": "ml.t3.2xlarge",
    "vcpuNum": 8
   },
   {
    "_defaultOrder": 4,
    "_isFastLaunch": true,
    "category": "General purpose",
    "gpuNum": 0,
    "hideHardwareSpecs": false,
    "memoryGiB": 8,
    "name": "ml.m5.large",
    "vcpuNum": 2
   },
   {
    "_defaultOrder": 5,
    "_isFastLaunch": false,
    "category": "General purpose",
    "gpuNum": 0,
    "hideHardwareSpecs": false,
    "memoryGiB": 16,
    "name": "ml.m5.xlarge",
    "vcpuNum": 4
   },
   {
    "_defaultOrder": 6,
    "_isFastLaunch": false,
    "category": "General purpose",
    "gpuNum": 0,
    "hideHardwareSpecs": false,
    "memoryGiB": 32,
    "name": "ml.m5.2xlarge",
    "vcpuNum": 8
   },
   {
    "_defaultOrder": 7,
    "_isFastLaunch": false,
    "category": "General purpose",
    "gpuNum": 0,
    "hideHardwareSpecs": false,
    "memoryGiB": 64,
    "name": "ml.m5.4xlarge",
    "vcpuNum": 16
   },
   {
    "_defaultOrder": 8,
    "_isFastLaunch": false,
    "category": "General purpose",
    "gpuNum": 0,
    "hideHardwareSpecs": false,
    "memoryGiB": 128,
    "name": "ml.m5.8xlarge",
    "vcpuNum": 32
   },
   {
    "_defaultOrder": 9,
    "_isFastLaunch": false,
    "category": "General purpose",
    "gpuNum": 0,
    "hideHardwareSpecs": false,
    "memoryGiB": 192,
    "name": "ml.m5.12xlarge",
    "vcpuNum": 48
   },
   {
    "_defaultOrder": 10,
    "_isFastLaunch": false,
    "category": "General purpose",
    "gpuNum": 0,
    "hideHardwareSpecs": false,
    "memoryGiB": 256,
    "name": "ml.m5.16xlarge",
    "vcpuNum": 64
   },
   {
    "_defaultOrder": 11,
    "_isFastLaunch": false,
    "category": "General purpose",
    "gpuNum": 0,
    "hideHardwareSpecs": false,
    "memoryGiB": 384,
    "name": "ml.m5.24xlarge",
    "vcpuNum": 96
   },
   {
    "_defaultOrder": 12,
    "_isFastLaunch": false,
    "category": "General purpose",
    "gpuNum": 0,
    "hideHardwareSpecs": false,
    "memoryGiB": 8,
    "name": "ml.m5d.large",
    "vcpuNum": 2
   },
   {
    "_defaultOrder": 13,
    "_isFastLaunch": false,
    "category": "General purpose",
    "gpuNum": 0,
    "hideHardwareSpecs": false,
    "memoryGiB": 16,
    "name": "ml.m5d.xlarge",
    "vcpuNum": 4
   },
   {
    "_defaultOrder": 14,
    "_isFastLaunch": false,
    "category": "General purpose",
    "gpuNum": 0,
    "hideHardwareSpecs": false,
    "memoryGiB": 32,
    "name": "ml.m5d.2xlarge",
    "vcpuNum": 8
   },
   {
    "_defaultOrder": 15,
    "_isFastLaunch": false,
    "category": "General purpose",
    "gpuNum": 0,
    "hideHardwareSpecs": false,
    "memoryGiB": 64,
    "name": "ml.m5d.4xlarge",
    "vcpuNum": 16
   },
   {
    "_defaultOrder": 16,
    "_isFastLaunch": false,
    "category": "General purpose",
    "gpuNum": 0,
    "hideHardwareSpecs": false,
    "memoryGiB": 128,
    "name": "ml.m5d.8xlarge",
    "vcpuNum": 32
   },
   {
    "_defaultOrder": 17,
    "_isFastLaunch": false,
    "category": "General purpose",
    "gpuNum": 0,
    "hideHardwareSpecs": false,
    "memoryGiB": 192,
    "name": "ml.m5d.12xlarge",
    "vcpuNum": 48
   },
   {
    "_defaultOrder": 18,
    "_isFastLaunch": false,
    "category": "General purpose",
    "gpuNum": 0,
    "hideHardwareSpecs": false,
    "memoryGiB": 256,
    "name": "ml.m5d.16xlarge",
    "vcpuNum": 64
   },
   {
    "_defaultOrder": 19,
    "_isFastLaunch": false,
    "category": "General purpose",
    "gpuNum": 0,
    "hideHardwareSpecs": false,
    "memoryGiB": 384,
    "name": "ml.m5d.24xlarge",
    "vcpuNum": 96
   },
   {
    "_defaultOrder": 20,
    "_isFastLaunch": false,
    "category": "General purpose",
    "gpuNum": 0,
    "hideHardwareSpecs": true,
    "memoryGiB": 0,
    "name": "ml.geospatial.interactive",
    "supportedImageNames": [
     "sagemaker-geospatial-v1-0"
    ],
    "vcpuNum": 0
   },
   {
    "_defaultOrder": 21,
    "_isFastLaunch": true,
    "category": "Compute optimized",
    "gpuNum": 0,
    "hideHardwareSpecs": false,
    "memoryGiB": 4,
    "name": "ml.c5.large",
    "vcpuNum": 2
   },
   {
    "_defaultOrder": 22,
    "_isFastLaunch": false,
    "category": "Compute optimized",
    "gpuNum": 0,
    "hideHardwareSpecs": false,
    "memoryGiB": 8,
    "name": "ml.c5.xlarge",
    "vcpuNum": 4
   },
   {
    "_defaultOrder": 23,
    "_isFastLaunch": false,
    "category": "Compute optimized",
    "gpuNum": 0,
    "hideHardwareSpecs": false,
    "memoryGiB": 16,
    "name": "ml.c5.2xlarge",
    "vcpuNum": 8
   },
   {
    "_defaultOrder": 24,
    "_isFastLaunch": false,
    "category": "Compute optimized",
    "gpuNum": 0,
    "hideHardwareSpecs": false,
    "memoryGiB": 32,
    "name": "ml.c5.4xlarge",
    "vcpuNum": 16
   },
   {
    "_defaultOrder": 25,
    "_isFastLaunch": false,
    "category": "Compute optimized",
    "gpuNum": 0,
    "hideHardwareSpecs": false,
    "memoryGiB": 72,
    "name": "ml.c5.9xlarge",
    "vcpuNum": 36
   },
   {
    "_defaultOrder": 26,
    "_isFastLaunch": false,
    "category": "Compute optimized",
    "gpuNum": 0,
    "hideHardwareSpecs": false,
    "memoryGiB": 96,
    "name": "ml.c5.12xlarge",
    "vcpuNum": 48
   },
   {
    "_defaultOrder": 27,
    "_isFastLaunch": false,
    "category": "Compute optimized",
    "gpuNum": 0,
    "hideHardwareSpecs": false,
    "memoryGiB": 144,
    "name": "ml.c5.18xlarge",
    "vcpuNum": 72
   },
   {
    "_defaultOrder": 28,
    "_isFastLaunch": false,
    "category": "Compute optimized",
    "gpuNum": 0,
    "hideHardwareSpecs": false,
    "memoryGiB": 192,
    "name": "ml.c5.24xlarge",
    "vcpuNum": 96
   },
   {
    "_defaultOrder": 29,
    "_isFastLaunch": true,
    "category": "Accelerated computing",
    "gpuNum": 1,
    "hideHardwareSpecs": false,
    "memoryGiB": 16,
    "name": "ml.g4dn.xlarge",
    "vcpuNum": 4
   },
   {
    "_defaultOrder": 30,
    "_isFastLaunch": false,
    "category": "Accelerated computing",
    "gpuNum": 1,
    "hideHardwareSpecs": false,
    "memoryGiB": 32,
    "name": "ml.g4dn.2xlarge",
    "vcpuNum": 8
   },
   {
    "_defaultOrder": 31,
    "_isFastLaunch": false,
    "category": "Accelerated computing",
    "gpuNum": 1,
    "hideHardwareSpecs": false,
    "memoryGiB": 64,
    "name": "ml.g4dn.4xlarge",
    "vcpuNum": 16
   },
   {
    "_defaultOrder": 32,
    "_isFastLaunch": false,
    "category": "Accelerated computing",
    "gpuNum": 1,
    "hideHardwareSpecs": false,
    "memoryGiB": 128,
    "name": "ml.g4dn.8xlarge",
    "vcpuNum": 32
   },
   {
    "_defaultOrder": 33,
    "_isFastLaunch": false,
    "category": "Accelerated computing",
    "gpuNum": 4,
    "hideHardwareSpecs": false,
    "memoryGiB": 192,
    "name": "ml.g4dn.12xlarge",
    "vcpuNum": 48
   },
   {
    "_defaultOrder": 34,
    "_isFastLaunch": false,
    "category": "Accelerated computing",
    "gpuNum": 1,
    "hideHardwareSpecs": false,
    "memoryGiB": 256,
    "name": "ml.g4dn.16xlarge",
    "vcpuNum": 64
   },
   {
    "_defaultOrder": 35,
    "_isFastLaunch": false,
    "category": "Accelerated computing",
    "gpuNum": 1,
    "hideHardwareSpecs": false,
    "memoryGiB": 61,
    "name": "ml.p3.2xlarge",
    "vcpuNum": 8
   },
   {
    "_defaultOrder": 36,
    "_isFastLaunch": false,
    "category": "Accelerated computing",
    "gpuNum": 4,
    "hideHardwareSpecs": false,
    "memoryGiB": 244,
    "name": "ml.p3.8xlarge",
    "vcpuNum": 32
   },
   {
    "_defaultOrder": 37,
    "_isFastLaunch": false,
    "category": "Accelerated computing",
    "gpuNum": 8,
    "hideHardwareSpecs": false,
    "memoryGiB": 488,
    "name": "ml.p3.16xlarge",
    "vcpuNum": 64
   },
   {
    "_defaultOrder": 38,
    "_isFastLaunch": false,
    "category": "Accelerated computing",
    "gpuNum": 8,
    "hideHardwareSpecs": false,
    "memoryGiB": 768,
    "name": "ml.p3dn.24xlarge",
    "vcpuNum": 96
   },
   {
    "_defaultOrder": 39,
    "_isFastLaunch": false,
    "category": "Memory Optimized",
    "gpuNum": 0,
    "hideHardwareSpecs": false,
    "memoryGiB": 16,
    "name": "ml.r5.large",
    "vcpuNum": 2
   },
   {
    "_defaultOrder": 40,
    "_isFastLaunch": false,
    "category": "Memory Optimized",
    "gpuNum": 0,
    "hideHardwareSpecs": false,
    "memoryGiB": 32,
    "name": "ml.r5.xlarge",
    "vcpuNum": 4
   },
   {
    "_defaultOrder": 41,
    "_isFastLaunch": false,
    "category": "Memory Optimized",
    "gpuNum": 0,
    "hideHardwareSpecs": false,
    "memoryGiB": 64,
    "name": "ml.r5.2xlarge",
    "vcpuNum": 8
   },
   {
    "_defaultOrder": 42,
    "_isFastLaunch": false,
    "category": "Memory Optimized",
    "gpuNum": 0,
    "hideHardwareSpecs": false,
    "memoryGiB": 128,
    "name": "ml.r5.4xlarge",
    "vcpuNum": 16
   },
   {
    "_defaultOrder": 43,
    "_isFastLaunch": false,
    "category": "Memory Optimized",
    "gpuNum": 0,
    "hideHardwareSpecs": false,
    "memoryGiB": 256,
    "name": "ml.r5.8xlarge",
    "vcpuNum": 32
   },
   {
    "_defaultOrder": 44,
    "_isFastLaunch": false,
    "category": "Memory Optimized",
    "gpuNum": 0,
    "hideHardwareSpecs": false,
    "memoryGiB": 384,
    "name": "ml.r5.12xlarge",
    "vcpuNum": 48
   },
   {
    "_defaultOrder": 45,
    "_isFastLaunch": false,
    "category": "Memory Optimized",
    "gpuNum": 0,
    "hideHardwareSpecs": false,
    "memoryGiB": 512,
    "name": "ml.r5.16xlarge",
    "vcpuNum": 64
   },
   {
    "_defaultOrder": 46,
    "_isFastLaunch": false,
    "category": "Memory Optimized",
    "gpuNum": 0,
    "hideHardwareSpecs": false,
    "memoryGiB": 768,
    "name": "ml.r5.24xlarge",
    "vcpuNum": 96
   },
   {
    "_defaultOrder": 47,
    "_isFastLaunch": false,
    "category": "Accelerated computing",
    "gpuNum": 1,
    "hideHardwareSpecs": false,
    "memoryGiB": 16,
    "name": "ml.g5.xlarge",
    "vcpuNum": 4
   },
   {
    "_defaultOrder": 48,
    "_isFastLaunch": false,
    "category": "Accelerated computing",
    "gpuNum": 1,
    "hideHardwareSpecs": false,
    "memoryGiB": 32,
    "name": "ml.g5.2xlarge",
    "vcpuNum": 8
   },
   {
    "_defaultOrder": 49,
    "_isFastLaunch": false,
    "category": "Accelerated computing",
    "gpuNum": 1,
    "hideHardwareSpecs": false,
    "memoryGiB": 64,
    "name": "ml.g5.4xlarge",
    "vcpuNum": 16
   },
   {
    "_defaultOrder": 50,
    "_isFastLaunch": false,
    "category": "Accelerated computing",
    "gpuNum": 1,
    "hideHardwareSpecs": false,
    "memoryGiB": 128,
    "name": "ml.g5.8xlarge",
    "vcpuNum": 32
   },
   {
    "_defaultOrder": 51,
    "_isFastLaunch": false,
    "category": "Accelerated computing",
    "gpuNum": 1,
    "hideHardwareSpecs": false,
    "memoryGiB": 256,
    "name": "ml.g5.16xlarge",
    "vcpuNum": 64
   },
   {
    "_defaultOrder": 52,
    "_isFastLaunch": false,
    "category": "Accelerated computing",
    "gpuNum": 4,
    "hideHardwareSpecs": false,
    "memoryGiB": 192,
    "name": "ml.g5.12xlarge",
    "vcpuNum": 48
   },
   {
    "_defaultOrder": 53,
    "_isFastLaunch": false,
    "category": "Accelerated computing",
    "gpuNum": 4,
    "hideHardwareSpecs": false,
    "memoryGiB": 384,
    "name": "ml.g5.24xlarge",
    "vcpuNum": 96
   },
   {
    "_defaultOrder": 54,
    "_isFastLaunch": false,
    "category": "Accelerated computing",
    "gpuNum": 8,
    "hideHardwareSpecs": false,
    "memoryGiB": 768,
    "name": "ml.g5.48xlarge",
    "vcpuNum": 192
   },
   {
    "_defaultOrder": 55,
    "_isFastLaunch": false,
    "category": "Accelerated computing",
    "gpuNum": 8,
    "hideHardwareSpecs": false,
    "memoryGiB": 1152,
    "name": "ml.p4d.24xlarge",
    "vcpuNum": 96
   },
   {
    "_defaultOrder": 56,
    "_isFastLaunch": false,
    "category": "Accelerated computing",
    "gpuNum": 8,
    "hideHardwareSpecs": false,
    "memoryGiB": 1152,
    "name": "ml.p4de.24xlarge",
    "vcpuNum": 96
   },
   {
    "_defaultOrder": 57,
    "_isFastLaunch": false,
    "category": "Accelerated computing",
    "gpuNum": 0,
    "hideHardwareSpecs": false,
    "memoryGiB": 32,
    "name": "ml.trn1.2xlarge",
    "vcpuNum": 8
   },
   {
    "_defaultOrder": 58,
    "_isFastLaunch": false,
    "category": "Accelerated computing",
    "gpuNum": 0,
    "hideHardwareSpecs": false,
    "memoryGiB": 512,
    "name": "ml.trn1.32xlarge",
    "vcpuNum": 128
   },
   {
    "_defaultOrder": 59,
    "_isFastLaunch": false,
    "category": "Accelerated computing",
    "gpuNum": 0,
    "hideHardwareSpecs": false,
    "memoryGiB": 512,
    "name": "ml.trn1n.32xlarge",
    "vcpuNum": 128
   }
  ],
  "instance_type": "ml.t3.medium",
  "kernelspec": {
   "display_name": "Python 3 (Data Science 3.0)",
   "language": "python",
   "name": "python3__SAGEMAKER_INTERNAL__arn:aws:sagemaker:us-east-1:081325390199:image/sagemaker-data-science-310-v1"
  },
  "language_info": {
   "codemirror_mode": {
    "name": "ipython",
    "version": 3
   },
   "file_extension": ".py",
   "mimetype": "text/x-python",
   "name": "python",
   "nbconvert_exporter": "python",
   "pygments_lexer": "ipython3",
   "version": "3.10.6"
  }
 },
 "nbformat": 4,
 "nbformat_minor": 5
}
